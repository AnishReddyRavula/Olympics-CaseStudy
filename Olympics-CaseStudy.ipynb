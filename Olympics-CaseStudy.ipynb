{
 "cells": [
  {
   "cell_type": "markdown",
   "metadata": {},
   "source": [
    "Question - 1:\n",
    "Create a dataframe with following data cleanup to make this file redable.\n",
    "<ul>\n",
    "<li>Create a function load_data to read CSV file and convert CSV data to dataframe.</li>\n",
    "<li>Skip first row</li>\n",
    "<li>Rename column containing 01, 02 and 03 to Gold, Silver and Bronze</li>\n",
    "<li>Split country name and country code and add country name as data frame index</li>\n",
    "<li>Remove extra unnecessary characters from country name.</li>\n",
    "<li>Drop the column Totals</li>\n",
    "<li>Return dataframe.</li>\n",
    "</ul>"
   ]
  },
  {
   "cell_type": "code",
   "execution_count": null,
   "metadata": {
    "collapsed": true
   },
   "outputs": [],
   "source": [
    "import csv # read and write csv files\n",
    "import pandas as pd"
   ]
  },
  {
   "cell_type": "code",
   "execution_count": 300,
   "metadata": {
    "collapsed": false,
    "scrolled": true
   },
   "outputs": [
    {
     "name": "stdout",
     "output_type": "stream",
     "text": [
      "Index(['Country', '# Summer', '01 !', '02 !', '03 !', 'Total', '# Winter',\n",
      "       '01 !', '02 !', '03 !', 'Total', '# Games', '01 !', '02 !', '03 !',\n",
      "       'Combined total'],\n",
      "      dtype='object', name=0)\n",
      "0           # Summer Gold Silver Bronze # Winter Gold Silver Bronze # Games  \\\n",
      "Country                                                                       \n",
      "Afghanistan       13    0      0      2        0    0      0      0      13   \n",
      "Algeria           12    5      2      8        3    0      0      0      15   \n",
      "Argentina         23   18     24     28       18    0      0      0      41   \n",
      "Armenia            5    1      2      9        6    0      0      0      11   \n",
      "Australasia        2    3      4      5        0    0      0      0       2   \n",
      "\n",
      "0           Gold Silver Bronze  \n",
      "Country                         \n",
      "Afghanistan    0      0      2  \n",
      "Algeria        5      2      8  \n",
      "Argentina     18     24     28  \n",
      "Armenia        1      2      9  \n",
      "Australasia    3      4      5  \n"
     ]
    }
   ],
   "source": [
    "def data_load(filename):\n",
    "    path = 'data/'+filename\n",
    "    with open(filename, 'r') as f_in:\n",
    "\n",
    "        oly_data = pd.read_csv(f_in)\n",
    "        header = oly_data.iloc[0]\n",
    "        oly_data = oly_data[1:]\n",
    "        oly_data.columns = header\n",
    "        oly_data.columns.values[0] = 'Country'\n",
    "        col = []\n",
    "        count = 0\n",
    "        flag = False\n",
    "        print(oly_data.columns)\n",
    "        oly_data = oly_data.rename(columns={'Country':'Country', '01 !': 'Gold', '02 !': 'Silver', '03 !' : 'Bronze'})\n",
    "        oly_data = oly_data.set_index('Country')\n",
    "        oly_data.drop('Total', axis=1, inplace=True)\n",
    "        oly_data.drop('Combined total', axis=1, inplace=True)\n",
    "        oly_data.drop('Totals', axis=0, inplace=True)\n",
    "    index = []\n",
    "    for a in oly_data.index:\n",
    "        try:\n",
    "            name, code = a.split('(')\n",
    "            oly_data =  oly_data.rename({a: name.strip(\" \")})\n",
    "            index.append(name)\n",
    "        except  ValueError:\n",
    "            pass\n",
    "    print(oly_data.head())\n",
    "    return oly_data\n",
    "\n",
    "\n",
    "data_file = 'data/olympics.csv'\n",
    "\n",
    "oly_data = data_load(data_file)\n",
    "\n",
    "\n"
   ]
  },
  {
   "cell_type": "markdown",
   "metadata": {},
   "source": [
    "Question - 2: Write a function to get first country details from dataframe we got from load_data function.\n",
    "\n",
    "<ul>\n",
    "<li>Create a function first_country.</li>\n",
    "<li>Return results for first country.</li>\n",
    "</ul>"
   ]
  },
  {
   "cell_type": "code",
   "execution_count": 301,
   "metadata": {
    "collapsed": false
   },
   "outputs": [],
   "source": [
    "def first_country(oly_df):\n",
    "    print(oly_df[0:1])\n",
    "    return (oly_df[0:1])"
   ]
  },
  {
   "cell_type": "code",
   "execution_count": 302,
   "metadata": {
    "collapsed": false
   },
   "outputs": [
    {
     "name": "stdout",
     "output_type": "stream",
     "text": [
      "0           # Summer Gold Silver Bronze # Winter Gold Silver Bronze # Games  \\\n",
      "Country                                                                       \n",
      "Afghanistan       13    0      0      2        0    0      0      0      13   \n",
      "\n",
      "0           Gold Silver Bronze  \n",
      "Country                         \n",
      "Afghanistan    0      0      2  \n",
      "5\n"
     ]
    }
   ],
   "source": [
    "f_country = first_country(oly_data)\n",
    "a = oly_data.loc['Algeria']['Gold'].tolist()\n",
    "print(a[2])"
   ]
  },
  {
   "cell_type": "markdown",
   "metadata": {},
   "source": [
    "Question - 3:\n",
    "Which country has won the most gold medals in summer games?\n",
    "<ul>\n",
    "<li>Create a function gold_medal to get name of country who won most gold medals.</li>\n",
    "<li>Return country name.</li>\n",
    "</ul>"
   ]
  },
  {
   "cell_type": "code",
   "execution_count": 303,
   "metadata": {
    "collapsed": false
   },
   "outputs": [],
   "source": [
    "def gold_medal(oly_df):\n",
    "    temp = 0\n",
    "    for _, each_country in oly_df.iterrows():\n",
    "#         print(each_country['Gold'].tolist()[0])\n",
    "        if temp < int(each_country['Gold'].tolist()[0]):\n",
    "            temp = int(each_country['Gold'].tolist()[0])\n",
    "            name = _\n",
    "    return (name)"
   ]
  },
  {
   "cell_type": "code",
   "execution_count": 304,
   "metadata": {
    "collapsed": false
   },
   "outputs": [
    {
     "name": "stdout",
     "output_type": "stream",
     "text": [
      "United States\n"
     ]
    }
   ],
   "source": [
    "max_summmer_g_medals = gold_medal(oly_data)\n",
    "print(max_summmer_g_medals)\n"
   ]
  },
  {
   "cell_type": "markdown",
   "metadata": {},
   "source": [
    "Question - 4:\n",
    "Which country had the biggest difference between their summer and winter gold medal counts?\n",
    "<ul>\n",
    "<li>Create a function biggest_difference_in_gold_medal to get name of country who has biggest difference between their sum/mer and winter gold medal counts.</li>\n",
    "<li>Return country name.</li>\n",
    "</ul>"
   ]
  },
  {
   "cell_type": "code",
   "execution_count": 305,
   "metadata": {
    "collapsed": true
   },
   "outputs": [],
   "source": [
    "def biggest_difference_in_gold_medal (oly_df):\n",
    "    temp = 0\n",
    "    for _, each_country in oly_df.iterrows():\n",
    "        \n",
    "#         print(each_country['Gold'].tolist()[0])\n",
    "        diff = abs(int(each_country['Gold'].tolist()[0]) - int(each_country['Gold'].tolist()[1]))\n",
    "        if temp < diff:\n",
    "            temp = diff\n",
    "            name = _\n",
    "    print(name)"
   ]
  },
  {
   "cell_type": "code",
   "execution_count": 306,
   "metadata": {
    "collapsed": false,
    "scrolled": true
   },
   "outputs": [
    {
     "name": "stdout",
     "output_type": "stream",
     "text": [
      "United States\n"
     ]
    }
   ],
   "source": [
    "biggest_difference_in_gold_medal(oly_data)"
   ]
  },
  {
   "cell_type": "markdown",
   "metadata": {},
   "source": [
    "Question - 5:\n",
    "Write a function to update the dataframe to include a new column called \"Points\" for Games which is a weighted value where each gold medal counts for 3 points, silver medals for 2 points, and bronze medals for 1 point. The function should return only the column (a Series object) which you created.\n",
    "<ul>\n",
    "<li>Create a function get_points.</li>\n",
    "<li>Return dataframe with points column and index</li>\n",
    "</ul>"
   ]
  },
  {
   "cell_type": "code",
   "execution_count": 307,
   "metadata": {
    "collapsed": true
   },
   "outputs": [],
   "source": [
    "def get_points(oly_df):\n",
    "    points = []\n",
    "    for _, each_country in oly_df.iterrows():\n",
    "        temp = 0\n",
    "        temp = temp + int(each_country['Gold'].tolist()[2]) * 3\n",
    "        temp = temp + int(each_country['Silver'].tolist()[2]) * 2\n",
    "        temp = temp + int(each_country['Bronze'].tolist()[2]) * 1\n",
    "        points.append(temp)\n",
    "    oly_df['Points'] = points\n",
    "    return oly_df\n",
    "        "
   ]
  },
  {
   "cell_type": "code",
   "execution_count": 308,
   "metadata": {
    "collapsed": false
   },
   "outputs": [
    {
     "name": "stdout",
     "output_type": "stream",
     "text": [
      "0           # Summer Gold Silver Bronze # Winter Gold Silver Bronze # Games  \\\n",
      "Country                                                                       \n",
      "Afghanistan       13    0      0      2        0    0      0      0      13   \n",
      "Algeria           12    5      2      8        3    0      0      0      15   \n",
      "Argentina         23   18     24     28       18    0      0      0      41   \n",
      "Armenia            5    1      2      9        6    0      0      0      11   \n",
      "Australasia        2    3      4      5        0    0      0      0       2   \n",
      "\n",
      "0           Gold Silver Bronze  Points  \n",
      "Country                                 \n",
      "Afghanistan    0      0      2       2  \n",
      "Algeria        5      2      8      27  \n",
      "Argentina     18     24     28     130  \n",
      "Armenia        1      2      9      16  \n",
      "Australasia    3      4      5      22  \n"
     ]
    }
   ],
   "source": [
    "oly_data = get_points(oly_data)\n",
    "print(oly_data.head())"
   ]
  }
 ],
 "metadata": {
  "anaconda-cloud": {},
  "kernelspec": {
   "display_name": "Python [conda root]",
   "language": "python",
   "name": "conda-root-py"
  },
  "language_info": {
   "codemirror_mode": {
    "name": "ipython",
    "version": 3
   },
   "file_extension": ".py",
   "mimetype": "text/x-python",
   "name": "python",
   "nbconvert_exporter": "python",
   "pygments_lexer": "ipython3",
   "version": "3.5.2"
  }
 },
 "nbformat": 4,
 "nbformat_minor": 1
}
